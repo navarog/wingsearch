{
 "cells": [
  {
   "cell_type": "code",
   "execution_count": 1,
   "metadata": {},
   "outputs": [],
   "source": [
    "import os\n",
    "import re\n",
    "from functools import reduce\n",
    "\n",
    "import pandas as pd\n",
    "\n",
    "import general_rulings_map\n",
    "\n",
    "pd.set_option('display.max_rows', 500)"
   ]
  },
  {
   "cell_type": "code",
   "execution_count": 2,
   "metadata": {},
   "outputs": [],
   "source": [
    "master = pd.read_excel('wingspan-card-list.xlsx', sheet_name='Birds')\n",
    "bonus = pd.read_excel('wingspan-note-list.xlsx', sheet_name='Bonus')\n",
    "goals = pd.read_excel('wingspan-card-list.xlsx', sheet_name='Goals')\n",
    "note = pd.read_excel('wingspan-note-list.xlsx', sheet_name='Birds')\n",
    "parameters = pd.read_excel('wingspan-note-list.xlsx', sheet_name='Parameters', index_col=0)"
   ]
  },
  {
   "cell_type": "code",
   "execution_count": 3,
   "metadata": {},
   "outputs": [
    {
     "name": "stderr",
     "output_type": "stream",
     "text": [
      "/tmp/ipykernel_36981/1816122677.py:25: FutureWarning: ChainedAssignmentError: behaviour will change in pandas 3.0!\n",
      "You are setting values through chained assignment. Currently this works in certain cases, but when using Copy-on-Write (which will become the default behaviour in pandas 3.0) this will never work to update the original DataFrame or Series, because the intermediate object on which we are setting values will behave as a copy.\n",
      "A typical example is when you are setting values in a column of a DataFrame, like:\n",
      "\n",
      "df[\"col\"][row_indexer] = value\n",
      "\n",
      "Use `df.loc[row_indexer, \"col\"] = values` instead, to perform the assignment in a single step and ensure this keeps updating the original `df`.\n",
      "\n",
      "See the caveats in the documentation: https://pandas.pydata.org/pandas-docs/stable/user_guide/indexing.html#returning-a-view-versus-a-copy\n",
      "\n",
      "  master['Nest type'].loc[pd.isna(master['Nest type'])] = 'none'\n",
      "/tmp/ipykernel_36981/1816122677.py:25: SettingWithCopyWarning: \n",
      "A value is trying to be set on a copy of a slice from a DataFrame\n",
      "\n",
      "See the caveats in the documentation: https://pandas.pydata.org/pandas-docs/stable/user_guide/indexing.html#returning-a-view-versus-a-copy\n",
      "  master['Nest type'].loc[pd.isna(master['Nest type'])] = 'none'\n"
     ]
    }
   ],
   "source": [
    "expansion_order = {\n",
    "    'originalcore': 0,\n",
    "    'swiftstart': 0,\n",
    "    'core': 0,\n",
    "    'european': 0,\n",
    "    'oceania': 1,\n",
    "    'asia': 2,\n",
    "    'promoAsia': 3,\n",
    "    'promoCA': 4,\n",
    "    'promoEurope': 5,\n",
    "    'promoNZ': 6,\n",
    "    'promoUK': 7,\n",
    "    'promoUS': 8\n",
    "}\n",
    "\n",
    "def sort_key(x):\n",
    "    if x.name == 'Set':\n",
    "        return x.map(expansion_order)\n",
    "    return x\n",
    "\n",
    "master.dropna(subset=['Common name'], inplace=True)\n",
    "master.sort_values(by=['Set', 'Common name'], inplace=True, ignore_index=True, key=sort_key)\n",
    "master['id'] = master.index + 2\n",
    "master['Common name'] = master['Common name'].map(lambda s: s.strip())\n",
    "master['Native name'] = note['Native name']\n",
    "master['Note'] = note['Note']\n",
    "master['Nest type'].loc[pd.isna(master['Nest type'])] = 'none'\n",
    "\n",
    "bonus.sort_values(by=['Set', 'Bonus card'], inplace=True, ignore_index=True, key=sort_key)\n",
    "bonus['id'] = bonus.index + 1000\n",
    "\n",
    "goals.sort_values(by=['Set', 'Goal'], inplace=True, ignore_index=True, key=sort_key)\n",
    "goals['id'] = goals.index + 2000"
   ]
  },
  {
   "cell_type": "code",
   "execution_count": 4,
   "metadata": {},
   "outputs": [
    {
     "name": "stderr",
     "output_type": "stream",
     "text": [
      "/tmp/ipykernel_36981/2371671827.py:17: FutureWarning: DataFrameGroupBy.apply operated on the grouping columns. This behavior is deprecated, and in a future version of pandas the grouping columns will be excluded from the operation. Either pass `include_groups=False` to exclude the groupings or explicitly select the grouping columns after groupby to silence this warning.\n",
      "  grouped = specific.groupby(by='specific').apply(lambda group: list(map(lambda t: {'text': t[0], 'source': t[1]}, zip(group['text'], group['source']))))\n"
     ]
    }
   ],
   "source": [
    "master_ids = reduce(lambda acc, val: {**acc, val[1]['Common name']: val[1]['id']}, master.iterrows(), {})\n",
    "bonus_ids = reduce(lambda acc, val: {**acc, val[1]['Bonus card']: val[1]['id']}, bonus.iterrows(), {})\n",
    "ids = {**master_ids, **bonus_ids}\n",
    "\n",
    "def transform_links(link: str):\n",
    "    name = re.findall(r' applink=\"/card/([^\"]+)\"', link)[0]\n",
    "    return f' applink=\"/card/{ids[name]}\"' if name in ids else ''\n",
    "\n",
    "rulings = pd.read_csv('Wingspan - Rulings.tsv', sep='\\t', header=None, names=['id', 'general', 'specific', 'text', 'source'])\n",
    "rulings['text'] = rulings.text.map(lambda t: re.sub(r'\\\\textbf\\{([^}]+)\\}', r'<strong applink=\"/card/\\1\">\\1</strong>', re.sub(r'\\\\textit\\{([^}]+)\\}', r'<i>\\1</i>', re.sub(r\"``\", r'<i>\"', re.sub(r\"''\", r'\"</i>', t)))))\n",
    "rulings['text'] = rulings.text.map(lambda text: reduce(lambda acc, val: acc.replace(val, transform_links(val)), [x.group() for x in re.finditer( r' applink=\"/card/([^\"]+)\"', text)], text))\n",
    "\n",
    "general = rulings[~pd.isna(rulings['general'])].drop(['specific'], axis=1)\n",
    "general['general'] = general.general.map(lambda t: re.sub(r'\\$\\\\Rightarrow\\$', '➔', t))\n",
    "specific = rulings[~pd.isna(rulings['specific'])].drop(['general'], axis=1)\n",
    "specific['specific'] = specific['specific'].map(lambda s: s.strip())\n",
    "grouped = specific.groupby(by='specific').apply(lambda group: list(map(lambda t: {'text': t[0], 'source': t[1]}, zip(group['text'], group['source']))))"
   ]
  },
  {
   "cell_type": "code",
   "execution_count": 5,
   "metadata": {},
   "outputs": [
    {
     "data": {
      "text/plain": [
       "['Greater Prairie Chicken']"
      ]
     },
     "execution_count": 5,
     "metadata": {},
     "output_type": "execute_result"
    }
   ],
   "source": [
    "vals =  list(master['Common name'].values) + list(bonus['Bonus card'].values)\n",
    "list(filter(lambda g: g not in vals, grouped.index))"
   ]
  },
  {
   "cell_type": "code",
   "execution_count": 6,
   "metadata": {},
   "outputs": [
    {
     "data": {
      "text/plain": [
       "{'02c': 0,\n",
       " '02g': 63,\n",
       " '03a': 4,\n",
       " '20190122': 0,\n",
       " '20190205': 0,\n",
       " '20190313': 0,\n",
       " '20190601': 93,\n",
       " '20190908': 8,\n",
       " '20191010': 10,\n",
       " '20191202': 0,\n",
       " '20191203c': 0,\n",
       " '20200109a': 0,\n",
       " '20200208': 0,\n",
       " '2020022b': 4,\n",
       " '20200330': 0,\n",
       " '20200404': 413,\n",
       " '20200511': 8,\n",
       " '20200712': 0,\n",
       " '20200716a': 3,\n",
       " '20200716b': 14,\n",
       " '20201003': 0,\n",
       " '20201009': 0,\n",
       " '20201116a': 0,\n",
       " '20201117': 68,\n",
       " '20201211': 0,\n",
       " '20210101': 0,\n",
       " '20210199a': 0,\n",
       " '20210199b': 0,\n",
       " '20210206': 4,\n",
       " '20210318': 3}"
      ]
     },
     "execution_count": 6,
     "metadata": {},
     "output_type": "execute_result"
    }
   ],
   "source": [
    "general_dict = reduce(lambda acc, val: {**acc, val: []}, list(master['Common name']) + list(bonus['Bonus card']), {})\n",
    "rule_counts = {}\n",
    "\n",
    "for i, rule in general.iterrows():\n",
    "    if rule['id'] in general_rulings_map.rulings:\n",
    "        rule_counter = 0\n",
    "        for j, row in master.iterrows():\n",
    "            if general_rulings_map.rulings[rule['id']](row):\n",
    "                rule_counter += 1\n",
    "                general_dict[master.loc[j, 'Common name']] += [{'id': rule['id'], 'text': rule['text'], 'source': rule['source']}]\n",
    "        rule_counts[rule['id']] = rule_counter\n",
    "    else:\n",
    "        print(f'Rule {rule[\"id\"]} not yet implemented')\n",
    "\n",
    "for rules in general_dict.values():\n",
    "    rules.sort(key=lambda key: rule_counts[key['id']])\n",
    "    for rule in rules:\n",
    "        del rule['id']\n",
    "\n",
    "rule_counts"
   ]
  },
  {
   "cell_type": "code",
   "execution_count": 7,
   "metadata": {
    "tags": []
   },
   "outputs": [],
   "source": [
    "general.reset_index(drop=True, inplace=True)\n",
    "general.drop(['id'], axis=1, inplace=True)\n",
    "general.columns = ['name', 'text', 'source']\n",
    "master['rulings'] = master['Common name'].map(lambda name: grouped[name] if name in grouped else [])\n",
    "master['additionalRulings'] = master['Common name'].map(lambda name: general_dict[name])\n",
    "bonus['rulings'] = bonus['Bonus card'].map(lambda name: grouped[name] if name in grouped else [])\n",
    "bonus['%'] = bonus['%'].map(lambda p: int(p) if type(p) == float else p)"
   ]
  },
  {
   "cell_type": "code",
   "execution_count": 8,
   "metadata": {},
   "outputs": [],
   "source": [
    "master.sort_values(by='Common name', inplace=True)\n",
    "bonus.sort_values(by='Bonus card', inplace=True)"
   ]
  },
  {
   "cell_type": "code",
   "execution_count": 9,
   "metadata": {},
   "outputs": [],
   "source": [
    "data_dir = os.path.join((\"..\" if os.getcwd().endswith('scripts') else \".\"), \"src/assets/data\")\n",
    "\n",
    "master.to_json(os.path.join(data_dir, 'master.json'), orient='records', indent=2)\n",
    "bonus.to_json(os.path.join(data_dir, 'bonus.json'), orient='records', indent=2)\n",
    "general.to_json(os.path.join(data_dir, 'general.json'), orient='index', indent=2)\n",
    "goals.to_json(os.path.join(data_dir, 'goals.json'), orient='records', indent=2)\n",
    "parameters.to_json(os.path.join(data_dir, 'parameters.json'), orient='index', indent=2)"
   ]
  }
 ],
 "metadata": {
  "kernelspec": {
   "display_name": "Python 3.8.8 ('base')",
   "language": "python",
   "name": "python3"
  },
  "language_info": {
   "codemirror_mode": {
    "name": "ipython",
    "version": 3
   },
   "file_extension": ".py",
   "mimetype": "text/x-python",
   "name": "python",
   "nbconvert_exporter": "python",
   "pygments_lexer": "ipython3",
   "version": "3.12.2"
  },
  "vscode": {
   "interpreter": {
    "hash": "310f68d2470ceb9abe8e24772c64717a7b2a7b5f8a20048025d97bcfbdb38133"
   }
  }
 },
 "nbformat": 4,
 "nbformat_minor": 2
}
