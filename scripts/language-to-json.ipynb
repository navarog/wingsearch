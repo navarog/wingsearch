{
 "metadata": {
  "language_info": {
   "codemirror_mode": {
    "name": "ipython",
    "version": 3
   },
   "file_extension": ".py",
   "mimetype": "text/x-python",
   "name": "python",
   "nbconvert_exporter": "python",
   "pygments_lexer": "ipython3",
   "version": "3.7.4-final"
  },
  "orig_nbformat": 2,
  "kernelspec": {
   "name": "Python 3.7.4 64-bit ('base': conda)",
   "display_name": "Python 3.7.4 64-bit ('base': conda)",
   "metadata": {
    "interpreter": {
     "hash": "f2758abd8a72b48e378cef6a139a7b38a7fc12e9f278ff03d45ba7235c87230a"
    }
   }
  }
 },
 "nbformat": 4,
 "nbformat_minor": 2,
 "cells": [
  {
   "cell_type": "code",
   "execution_count": 1,
   "metadata": {},
   "outputs": [],
   "source": [
    "import pandas as pd\n",
    "import simplejson\n",
    "import os\n",
    "import re"
   ]
  },
  {
   "cell_type": "code",
   "execution_count": 2,
   "metadata": {},
   "outputs": [],
   "source": [
    "i18n_folder = '../i18n'\n",
    "files = [os.path.join(i18n_folder, file) for file in os.listdir(i18n_folder) if file.endswith('.xlsx') and not file.startswith('template')]"
   ]
  },
  {
   "cell_type": "code",
   "execution_count": 3,
   "metadata": {},
   "outputs": [],
   "source": [
    "for file in files:\n",
    "    birds = pd.read_excel(file, sheet_name='Birds', index_col=0).to_dict(orient='index')\n",
    "    bonuses = pd.read_excel(file, sheet_name='Bonuses', index_col=0).to_dict(orient='index')\n",
    "    other = pd.read_excel(file, sheet_name='Other', index_col=0).to_dict(orient='index')\n",
    "\n",
    "    result = {'birds': birds, 'bonuses': bonuses, 'other': other}\n",
    "    result_folder = '../src/assets/data/i18n'\n",
    "    json_file = re.search(r'[\\w]+\\.xlsx', file).group().replace('.xlsx', '.json')\n",
    "\n",
    "    if not os.path.exists(result_folder):\n",
    "        os.makedirs(result_folder)\n",
    "\n",
    "    with open(os.path.join(result_folder, json_file), 'w') as fp:\n",
    "        simplejson.dump(result, fp, ignore_nan=True)"
   ]
  }
 ]
}